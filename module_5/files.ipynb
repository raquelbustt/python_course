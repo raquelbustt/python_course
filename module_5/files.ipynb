{
 "cells": [
  {
   "cell_type": "markdown",
   "metadata": {},
   "source": [
    "### Files"
   ]
  },
  {
   "cell_type": "markdown",
   "metadata": {},
   "source": [
    "#### Reading files"
   ]
  },
  {
   "cell_type": "code",
   "execution_count": 2,
   "metadata": {},
   "outputs": [
    {
     "name": "stdout",
     "output_type": "stream",
     "text": [
      "Hello\n",
      "this is my first file to read in\n",
      "P Y T H O N <3\n",
      "False\n",
      "True\n"
     ]
    }
   ],
   "source": [
    "with open ('file.txt') as f:\n",
    "    text = f.read()\n",
    "    print(text)\n",
    "    # nesse formato o arquivo é fechado automaticamente, sem a necessidade de usar close()\n",
    "    print(f.closed) # False\n",
    "print(f.closed) # True"
   ]
  },
  {
   "cell_type": "code",
   "execution_count": 3,
   "metadata": {},
   "outputs": [
    {
     "name": "stdout",
     "output_type": "stream",
     "text": [
      "Hello\n",
      "this is my first file to read in\n",
      "P Y T H O N <3\n"
     ]
    }
   ],
   "source": [
    "print(text)"
   ]
  },
  {
   "cell_type": "code",
   "execution_count": 11,
   "metadata": {},
   "outputs": [
    {
     "name": "stdout",
     "output_type": "stream",
     "text": [
      "Hello\n",
      "this is my first file to read in\n",
      "P Y T H O N <3"
     ]
    }
   ],
   "source": [
    "with open ('file.txt') as f:\n",
    "    text = f.readline()\n",
    "    print(text, end='')\n",
    "\n",
    "    text = f.readline()\n",
    "    print(text, end='')\n",
    "\n",
    "    text = f.readline()\n",
    "    print(text, end='')"
   ]
  },
  {
   "cell_type": "code",
   "execution_count": 13,
   "metadata": {},
   "outputs": [
    {
     "name": "stdout",
     "output_type": "stream",
     "text": [
      "Hello\n",
      "this is my first file to read in\n",
      "P Y T H O N <3"
     ]
    }
   ],
   "source": [
    "# the best way to read files\n",
    "with open ('file.txt') as f:\n",
    "    for row in f:\n",
    "        print(row, end='')"
   ]
  },
  {
   "cell_type": "markdown",
   "metadata": {},
   "source": [
    "#### Reading files by characters"
   ]
  },
  {
   "cell_type": "code",
   "execution_count": 20,
   "metadata": {},
   "outputs": [
    {
     "name": "stdout",
     "output_type": "stream",
     "text": [
      "Hello\n",
      "this is my first fi"
     ]
    }
   ],
   "source": [
    "with open ('file.txt', 'r') as f:\n",
    "    text = f.read(25)\n",
    "    print(text, end='')"
   ]
  },
  {
   "cell_type": "code",
   "execution_count": 33,
   "metadata": {},
   "outputs": [
    {
     "name": "stdout",
     "output_type": "stream",
     "text": [
      "10\n",
      "Hello\n",
      "this is my first file to read in\n",
      "P Y T H O N <3"
     ]
    }
   ],
   "source": [
    "with open ('file.txt', 'r') as f:\n",
    "    # irá ler 10 caracteres por vez\n",
    "    qtd = 10 \n",
    "\n",
    "    text = f.read(qtd)\n",
    "\n",
    "    print(len(text))\n",
    "    \n",
    "    while len(text) > 0:\n",
    "        # print('\\n', len(text))\n",
    "        print(text, end='')\n",
    "        text = f.read(qtd)\n"
   ]
  },
  {
   "cell_type": "markdown",
   "metadata": {},
   "source": [
    "#### Writing files"
   ]
  },
  {
   "cell_type": "code",
   "execution_count": 37,
   "metadata": {},
   "outputs": [],
   "source": [
    "with open('w_file.text', 'w') as f:\n",
    "    f.write('Adding a phrase')"
   ]
  },
  {
   "cell_type": "code",
   "execution_count": 38,
   "metadata": {},
   "outputs": [
    {
     "name": "stdout",
     "output_type": "stream",
     "text": [
      "Adding a phrase\n"
     ]
    }
   ],
   "source": [
    "with open('w_file.text', 'r') as f:\n",
    "    print(f.read())"
   ]
  },
  {
   "cell_type": "code",
   "execution_count": 39,
   "metadata": {},
   "outputs": [],
   "source": [
    "with open('w_file.text', 'w') as f:\n",
    "    f.write('Adding another phrase')"
   ]
  },
  {
   "cell_type": "code",
   "execution_count": 40,
   "metadata": {},
   "outputs": [
    {
     "name": "stdout",
     "output_type": "stream",
     "text": [
      "Adding another phrase\n"
     ]
    }
   ],
   "source": [
    "with open('w_file.text', 'r') as f:\n",
    "    print(f.read())"
   ]
  },
  {
   "cell_type": "code",
   "execution_count": 41,
   "metadata": {},
   "outputs": [],
   "source": [
    "with open('w_file.text', 'w') as f:\n",
    "    f.write('Adding a phrase\\n')\n",
    "    f.write('Adding another phrase')"
   ]
  },
  {
   "cell_type": "code",
   "execution_count": 42,
   "metadata": {},
   "outputs": [
    {
     "name": "stdout",
     "output_type": "stream",
     "text": [
      "Adding a phrase\n",
      "Adding another phrase\n"
     ]
    }
   ],
   "source": [
    "with open('w_file.text', 'r') as f:\n",
    "    print(f.read())"
   ]
  },
  {
   "cell_type": "code",
   "execution_count": 43,
   "metadata": {},
   "outputs": [],
   "source": [
    "with open('w_file.text', 'a') as f:\n",
    "    f.write('\\nAdding the third phrase\\n')"
   ]
  },
  {
   "cell_type": "code",
   "execution_count": 44,
   "metadata": {},
   "outputs": [
    {
     "name": "stdout",
     "output_type": "stream",
     "text": [
      "Adding a phrase\n",
      "Adding another phrase\n",
      "Adding the third phrase\n",
      "\n"
     ]
    }
   ],
   "source": [
    "with open('w_file.text', 'r') as f:\n",
    "    print(f.read())"
   ]
  },
  {
   "cell_type": "code",
   "execution_count": 51,
   "metadata": {},
   "outputs": [],
   "source": [
    "text = \"\"\"\n",
    "Lorem ipsum dolor sit amet, \n",
    "consectetur adipiscing elit. Aliquam aliquam, \n",
    "lacus pharetra feugiat elementum, nisl justo feugiat est, \n",
    "fermentum efficitur justo tellus in felis. In blandit nibh vitae arcu lacinia venenatis.\n",
    "\"\"\""
   ]
  },
  {
   "cell_type": "code",
   "execution_count": 52,
   "metadata": {},
   "outputs": [],
   "source": [
    "with open('w_file.txt', 'w') as f:\n",
    "    f.write(text)"
   ]
  },
  {
   "cell_type": "code",
   "execution_count": 53,
   "metadata": {},
   "outputs": [
    {
     "name": "stdout",
     "output_type": "stream",
     "text": [
      "\n",
      "Lorem ipsum dolor sit amet, \n",
      "consectetur adipiscing elit. Aliquam aliquam, \n",
      "lacus pharetra feugiat elementum, nisl justo feugiat est, \n",
      "fermentum efficitur justo tellus in felis. In blandit nibh vitae arcu lacinia venenatis.\n",
      "\n"
     ]
    }
   ],
   "source": [
    "with open('w_file.txt', 'r') as f:\n",
    "    print(f.read())"
   ]
  },
  {
   "cell_type": "code",
   "execution_count": 1,
   "metadata": {},
   "outputs": [],
   "source": [
    "with open('w_file.txt', 'r') as f:\n",
    "    with open('new_file.txt', 'w') as copy_file:\n",
    "        for row in f:\n",
    "            copy_file.write(row)"
   ]
  }
 ],
 "metadata": {
  "kernelspec": {
   "display_name": "Python 3",
   "language": "python",
   "name": "python3"
  },
  "language_info": {
   "codemirror_mode": {
    "name": "ipython",
    "version": 3
   },
   "file_extension": ".py",
   "mimetype": "text/x-python",
   "name": "python",
   "nbconvert_exporter": "python",
   "pygments_lexer": "ipython3",
   "version": "3.9.6"
  }
 },
 "nbformat": 4,
 "nbformat_minor": 2
}
