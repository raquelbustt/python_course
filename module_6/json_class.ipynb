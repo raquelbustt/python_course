{
 "cells": [
  {
   "cell_type": "code",
   "execution_count": 1,
   "metadata": {},
   "outputs": [],
   "source": [
    "string_cadastro = '''\n",
    "{\n",
    "    \"dados\": [\n",
    "        {\n",
    "            \"usuario\": \"ana\",\n",
    "            \"idade\": 20,\n",
    "            \"altura\": 1.59,\n",
    "            \"email\": null,\n",
    "            \"ativado\": false\n",
    "        },\n",
    "        {\n",
    "            \"usuario\": \"pedro\",\n",
    "            \"idade\": 26,\n",
    "            \"altura\": 1.81,\n",
    "            \"email\": \"pedrinho@email.com\",\n",
    "            \"ativado\": true\n",
    "        }\n",
    "    ]\n",
    "}\n",
    "'''"
   ]
  },
  {
   "cell_type": "code",
   "execution_count": 2,
   "metadata": {},
   "outputs": [],
   "source": [
    "import json"
   ]
  },
  {
   "cell_type": "code",
   "execution_count": 5,
   "metadata": {},
   "outputs": [],
   "source": [
    "dados = json.loads(string_cadastro)"
   ]
  },
  {
   "cell_type": "code",
   "execution_count": 11,
   "metadata": {},
   "outputs": [],
   "source": [
    "json_string = json.dumps(dados, indent=2, sort_keys=True)"
   ]
  },
  {
   "cell_type": "code",
   "execution_count": 12,
   "metadata": {},
   "outputs": [
    {
     "name": "stdout",
     "output_type": "stream",
     "text": [
      "{\n",
      "  \"dados\": [\n",
      "    {\n",
      "      \"altura\": 1.59,\n",
      "      \"ativado\": false,\n",
      "      \"email\": null,\n",
      "      \"idade\": 20,\n",
      "      \"usuario\": \"ana\"\n",
      "    },\n",
      "    {\n",
      "      \"altura\": 1.81,\n",
      "      \"ativado\": true,\n",
      "      \"email\": \"pedrinho@email.com\",\n",
      "      \"idade\": 26,\n",
      "      \"usuario\": \"pedro\"\n",
      "    }\n",
      "  ]\n",
      "}\n"
     ]
    }
   ],
   "source": [
    "print(json_string)"
   ]
  },
  {
   "cell_type": "code",
   "execution_count": 14,
   "metadata": {},
   "outputs": [
    {
     "data": {
      "text/plain": [
       "dict"
      ]
     },
     "execution_count": 14,
     "metadata": {},
     "output_type": "execute_result"
    }
   ],
   "source": [
    "type(dados)"
   ]
  },
  {
   "cell_type": "code",
   "execution_count": 15,
   "metadata": {},
   "outputs": [
    {
     "data": {
      "text/plain": [
       "{'dados': [{'usuario': 'ana',\n",
       "   'idade': 20,\n",
       "   'altura': 1.59,\n",
       "   'email': None,\n",
       "   'ativado': False},\n",
       "  {'usuario': 'pedro',\n",
       "   'idade': 26,\n",
       "   'altura': 1.81,\n",
       "   'email': 'pedrinho@email.com',\n",
       "   'ativado': True}]}"
      ]
     },
     "execution_count": 15,
     "metadata": {},
     "output_type": "execute_result"
    }
   ],
   "source": [
    "dados"
   ]
  },
  {
   "cell_type": "code",
   "execution_count": 18,
   "metadata": {},
   "outputs": [],
   "source": [
    "with open('novo_json.json', 'w') as arquivo_json:\n",
    "    json.dump(dados, arquivo_json, indent=2)"
   ]
  },
  {
   "cell_type": "code",
   "execution_count": 20,
   "metadata": {},
   "outputs": [],
   "source": [
    "with open('novo_json.json', 'r') as cadastro:\n",
    "    new_dict = json.load(cadastro)"
   ]
  },
  {
   "cell_type": "code",
   "execution_count": 21,
   "metadata": {},
   "outputs": [
    {
     "data": {
      "text/plain": [
       "{'dados': [{'usuario': 'ana',\n",
       "   'idade': 20,\n",
       "   'altura': 1.59,\n",
       "   'email': None,\n",
       "   'ativado': False},\n",
       "  {'usuario': 'pedro',\n",
       "   'idade': 26,\n",
       "   'altura': 1.81,\n",
       "   'email': 'pedrinho@email.com',\n",
       "   'ativado': True}]}"
      ]
     },
     "execution_count": 21,
     "metadata": {},
     "output_type": "execute_result"
    }
   ],
   "source": [
    "new_dict"
   ]
  },
  {
   "cell_type": "code",
   "execution_count": null,
   "metadata": {},
   "outputs": [],
   "source": []
  }
 ],
 "metadata": {
  "kernelspec": {
   "display_name": "Python 3",
   "language": "python",
   "name": "python3"
  },
  "language_info": {
   "codemirror_mode": {
    "name": "ipython",
    "version": 3
   },
   "file_extension": ".py",
   "mimetype": "text/x-python",
   "name": "python",
   "nbconvert_exporter": "python",
   "pygments_lexer": "ipython3",
   "version": "3.9.6"
  }
 },
 "nbformat": 4,
 "nbformat_minor": 2
}
