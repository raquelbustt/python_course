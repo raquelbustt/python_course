{
 "cells": [
  {
   "cell_type": "markdown",
   "metadata": {},
   "source": [
    "### Creating a word counter"
   ]
  },
  {
   "cell_type": "code",
   "execution_count": 1,
   "metadata": {},
   "outputs": [
    {
     "data": {
      "text/plain": [
       "Counter({'m': 5,\n",
       "         ' ': 5,\n",
       "         's': 3,\n",
       "         'e': 2,\n",
       "         'p': 2,\n",
       "         'u': 2,\n",
       "         'i': 2,\n",
       "         'y': 2,\n",
       "         't': 2,\n",
       "         'L': 1,\n",
       "         'o': 1,\n",
       "         'r': 1,\n",
       "         'I': 1,\n",
       "         'l': 1,\n",
       "         'd': 1,\n",
       "         'x': 1})"
      ]
     },
     "execution_count": 1,
     "metadata": {},
     "output_type": "execute_result"
    }
   ],
   "source": [
    "import collections\n",
    "\n",
    "word_list = 'Lorem Ipsum is simply dummy text'\n",
    "\n",
    "counter_freq = collections.Counter(word_list)\n",
    "counter_freq"
   ]
  },
  {
   "cell_type": "code",
   "execution_count": 3,
   "metadata": {},
   "outputs": [
    {
     "data": {
      "text/plain": [
       "Counter({'text': 2, 'Lorem': 1, 'Ipsum': 1, 'is': 1, 'simply': 1, 'dummy': 1})"
      ]
     },
     "execution_count": 3,
     "metadata": {},
     "output_type": "execute_result"
    }
   ],
   "source": [
    "word_list = 'Lorem Ipsum is simply dummy text text'.split()\n",
    "\n",
    "counter_freq = collections.Counter(word_list)\n",
    "counter_freq"
   ]
  },
  {
   "cell_type": "code",
   "execution_count": 7,
   "metadata": {},
   "outputs": [
    {
     "name": "stdout",
     "output_type": "stream",
     "text": [
      "Hello\n",
      "welcome to\n",
      "my first file to read in\n",
      "P Y T H O N <3"
     ]
    }
   ],
   "source": [
    "with open('udemy.txt') as text:\n",
    "    for row in text:\n",
    "        print(row, end='')"
   ]
  },
  {
   "cell_type": "code",
   "execution_count": 9,
   "metadata": {},
   "outputs": [
    {
     "name": "stdout",
     "output_type": "stream",
     "text": [
      "Hello (1, (0, 5))\n",
      "welcome (2, (0, 7))\n",
      "to (2, (8, 10))\n",
      "my (3, (0, 2))\n",
      "first (3, (3, 8))\n",
      "file (3, (9, 13))\n",
      "to (3, (14, 16))\n",
      "read (3, (17, 21))\n",
      "in (3, (22, 24))\n",
      "P (4, (0, 1))\n",
      "Y (4, (2, 3))\n",
      "T (4, (4, 5))\n",
      "H (4, (6, 7))\n",
      "O (4, (8, 9))\n",
      "N (4, (10, 11))\n",
      "3 (4, (13, 14))\n"
     ]
    }
   ],
   "source": [
    "import re\n",
    "\n",
    "index = {}\n",
    "\n",
    "p = re.compile(r'\\w+')\n",
    "with open('udemy.txt') as text:\n",
    "    for n_row, row in enumerate(text, 1):\n",
    "        for match in p.finditer(row):\n",
    "            word = match.group()\n",
    "            localization = (n_row, match.span())\n",
    "            print(word, localization)"
   ]
  },
  {
   "cell_type": "code",
   "execution_count": 10,
   "metadata": {},
   "outputs": [
    {
     "name": "stdout",
     "output_type": "stream",
     "text": [
      "Hello (1, (0, 5))\n",
      "welcome (2, (0, 7))\n",
      "to (2, (8, 10))\n",
      "my (3, (0, 2))\n",
      "first (3, (3, 8))\n",
      "file (3, (9, 13))\n",
      "to (3, (14, 16))\n",
      "read (3, (17, 21))\n",
      "in (3, (22, 24))\n",
      "P (4, (0, 1))\n",
      "Y (4, (2, 3))\n",
      "T (4, (4, 5))\n",
      "H (4, (6, 7))\n",
      "O (4, (8, 9))\n",
      "N (4, (10, 11))\n",
      "3 (4, (13, 14))\n"
     ]
    }
   ],
   "source": [
    "import re\n",
    "\n",
    "index = {}\n",
    "\n",
    "p = re.compile(r'\\w+')\n",
    "with open('udemy.txt') as text:\n",
    "    for n_row, row in enumerate(text, 1):\n",
    "        for match in p.finditer(row):\n",
    "            word = match.group()\n",
    "            localization = (n_row, match.span())\n",
    "            print(word, localization)\n",
    "\n",
    "            occurrences = index.get(word, [])\n",
    "            occurrences.append(localization)\n",
    "            index[word] = occurrences"
   ]
  },
  {
   "cell_type": "code",
   "execution_count": 11,
   "metadata": {},
   "outputs": [
    {
     "data": {
      "text/plain": [
       "{'Hello': [(1, (0, 5))],\n",
       " 'welcome': [(2, (0, 7))],\n",
       " 'to': [(2, (8, 10)), (3, (14, 16))],\n",
       " 'my': [(3, (0, 2))],\n",
       " 'first': [(3, (3, 8))],\n",
       " 'file': [(3, (9, 13))],\n",
       " 'read': [(3, (17, 21))],\n",
       " 'in': [(3, (22, 24))],\n",
       " 'P': [(4, (0, 1))],\n",
       " 'Y': [(4, (2, 3))],\n",
       " 'T': [(4, (4, 5))],\n",
       " 'H': [(4, (6, 7))],\n",
       " 'O': [(4, (8, 9))],\n",
       " 'N': [(4, (10, 11))],\n",
       " '3': [(4, (13, 14))]}"
      ]
     },
     "execution_count": 11,
     "metadata": {},
     "output_type": "execute_result"
    }
   ],
   "source": [
    "index"
   ]
  },
  {
   "cell_type": "code",
   "execution_count": 12,
   "metadata": {},
   "outputs": [
    {
     "data": {
      "text/plain": [
       "[(2, (8, 10)), (3, (14, 16))]"
      ]
     },
     "execution_count": 12,
     "metadata": {},
     "output_type": "execute_result"
    }
   ],
   "source": [
    "index['to']"
   ]
  },
  {
   "cell_type": "code",
   "execution_count": 13,
   "metadata": {},
   "outputs": [
    {
     "data": {
      "text/plain": [
       "2"
      ]
     },
     "execution_count": 13,
     "metadata": {},
     "output_type": "execute_result"
    }
   ],
   "source": [
    "len(index['to'])"
   ]
  },
  {
   "cell_type": "code",
   "execution_count": 16,
   "metadata": {},
   "outputs": [
    {
     "name": "stdout",
     "output_type": "stream",
     "text": [
      "3 1\n",
      "file 1\n",
      "first 1\n",
      "H 1\n",
      "Hello 1\n",
      "in 1\n",
      "my 1\n",
      "N 1\n",
      "O 1\n",
      "P 1\n",
      "read 1\n",
      "T 1\n",
      "to 2\n",
      "welcome 1\n",
      "Y 1\n"
     ]
    }
   ],
   "source": [
    "import re\n",
    "\n",
    "index = {}\n",
    "\n",
    "p = re.compile(r'\\w+')\n",
    "with open('udemy.txt') as text:\n",
    "    for n_row, row in enumerate(text, 1):\n",
    "        for match in p.finditer(row):\n",
    "            word = match.group()\n",
    "            localization = (n_row, match.span())\n",
    "\n",
    "            occurrences = index.get(word, [])\n",
    "            occurrences.append(localization)\n",
    "            index[word] = occurrences\n",
    "\n",
    "    word_freq = []\n",
    "    for word in sorted(index, key=str.upper):\n",
    "        print(word, len(index[word]))\n",
    "        word_freq.append((word, len(index[word])))"
   ]
  },
  {
   "cell_type": "code",
   "execution_count": 17,
   "metadata": {},
   "outputs": [
    {
     "data": {
      "text/plain": [
       "[('3', 1),\n",
       " ('file', 1),\n",
       " ('first', 1),\n",
       " ('H', 1),\n",
       " ('Hello', 1),\n",
       " ('in', 1),\n",
       " ('my', 1),\n",
       " ('N', 1),\n",
       " ('O', 1),\n",
       " ('P', 1),\n",
       " ('read', 1),\n",
       " ('T', 1),\n",
       " ('to', 2),\n",
       " ('welcome', 1),\n",
       " ('Y', 1)]"
      ]
     },
     "execution_count": 17,
     "metadata": {},
     "output_type": "execute_result"
    }
   ],
   "source": [
    "word_freq"
   ]
  },
  {
   "cell_type": "code",
   "execution_count": 18,
   "metadata": {},
   "outputs": [
    {
     "data": {
      "text/plain": [
       "{'3': 1,\n",
       " 'file': 1,\n",
       " 'first': 1,\n",
       " 'H': 1,\n",
       " 'Hello': 1,\n",
       " 'in': 1,\n",
       " 'my': 1,\n",
       " 'N': 1,\n",
       " 'O': 1,\n",
       " 'P': 1,\n",
       " 'read': 1,\n",
       " 'T': 1,\n",
       " 'to': 2,\n",
       " 'welcome': 1,\n",
       " 'Y': 1}"
      ]
     },
     "execution_count": 18,
     "metadata": {},
     "output_type": "execute_result"
    }
   ],
   "source": [
    "dict(word_freq)"
   ]
  }
 ],
 "metadata": {
  "kernelspec": {
   "display_name": "Python 3",
   "language": "python",
   "name": "python3"
  },
  "language_info": {
   "codemirror_mode": {
    "name": "ipython",
    "version": 3
   },
   "file_extension": ".py",
   "mimetype": "text/x-python",
   "name": "python",
   "nbconvert_exporter": "python",
   "pygments_lexer": "ipython3",
   "version": "3.9.6"
  }
 },
 "nbformat": 4,
 "nbformat_minor": 2
}
