{
 "cells": [
  {
   "cell_type": "code",
   "execution_count": 0,
   "metadata": {
    "application/vnd.databricks.v1+cell": {
     "cellMetadata": {},
     "inputWidgets": {},
     "nuid": "0004bd00-2647-4700-b9bb-48166e0496de",
     "showTitle": false,
     "title": ""
    }
   },
   "outputs": [],
   "source": [
    "# Na programação orientada a objetos nós temos os objetos com seus atributos e métodos. E o foco não são necessariamente as ações, mas sim o objeto\n",
    "# Ex: Fazer Bolo\n",
    "# class Carrinho:\n",
    "#   tamanho #atributo\n",
    "#   adicionar_ingredientes() #método\n",
    "# class Batedeira:\n",
    "#   modelo, marca, cor, potencia #atributos\n",
    "#   misturar_ingredientes() #métodos"
   ]
  },
  {
   "cell_type": "markdown",
   "metadata": {
    "application/vnd.databricks.v1+cell": {
     "cellMetadata": {},
     "inputWidgets": {},
     "nuid": "05187589-d2d0-44a2-9e24-464f06cf0f94",
     "showTitle": false,
     "title": ""
    }
   },
   "source": [
    "### Classes\n",
    "\n",
    "- São modelos\n",
    "- Possuem dados (atributos)\n",
    "- Métodos (funções dentro de uma classe)\n",
    "- Usando classes, criamos objetos ou instâncias de classes"
   ]
  },
  {
   "cell_type": "code",
   "execution_count": 0,
   "metadata": {
    "application/vnd.databricks.v1+cell": {
     "cellMetadata": {
      "byteLimit": 2048000,
      "rowLimit": 10000
     },
     "inputWidgets": {},
     "nuid": "419971d0-8473-4ddd-85f5-be1c6b5233d9",
     "showTitle": false,
     "title": ""
    }
   },
   "outputs": [],
   "source": [
    "class Computador:\n",
    "    pass"
   ]
  },
  {
   "cell_type": "code",
   "execution_count": 0,
   "metadata": {
    "application/vnd.databricks.v1+cell": {
     "cellMetadata": {
      "byteLimit": 2048000,
      "rowLimit": 10000
     },
     "inputWidgets": {},
     "nuid": "4d24586c-8658-4c84-9f5a-7f4b422c49f7",
     "showTitle": false,
     "title": ""
    }
   },
   "outputs": [],
   "source": [
    "pc1 = Computador()"
   ]
  },
  {
   "cell_type": "code",
   "execution_count": 0,
   "metadata": {
    "application/vnd.databricks.v1+cell": {
     "cellMetadata": {
      "byteLimit": 2048000,
      "rowLimit": 10000
     },
     "inputWidgets": {},
     "nuid": "b3294bb8-4be0-48c9-a92a-4cfb31624a01",
     "showTitle": false,
     "title": ""
    }
   },
   "outputs": [
    {
     "output_type": "stream",
     "name": "stdout",
     "output_type": "stream",
     "text": [
      "<class '__main__.Computador'>\n"
     ]
    }
   ],
   "source": [
    "print(type(pc1))"
   ]
  },
  {
   "cell_type": "code",
   "execution_count": 0,
   "metadata": {
    "application/vnd.databricks.v1+cell": {
     "cellMetadata": {
      "byteLimit": 2048000,
      "rowLimit": 10000
     },
     "inputWidgets": {},
     "nuid": "bb09ebbb-0930-40c4-b851-f0602b4fbafd",
     "showTitle": false,
     "title": ""
    }
   },
   "outputs": [],
   "source": [
    "pc1.cor = 'branco'"
   ]
  },
  {
   "cell_type": "code",
   "execution_count": 0,
   "metadata": {
    "application/vnd.databricks.v1+cell": {
     "cellMetadata": {
      "byteLimit": 2048000,
      "rowLimit": 10000
     },
     "inputWidgets": {},
     "nuid": "5b4f67e7-77a6-459f-9a84-8c4b8a79e9d5",
     "showTitle": false,
     "title": ""
    }
   },
   "outputs": [
    {
     "output_type": "stream",
     "name": "stdout",
     "output_type": "stream",
     "text": [
      "Out[5]: 'branco'"
     ]
    }
   ],
   "source": [
    "pc1.cor"
   ]
  },
  {
   "cell_type": "code",
   "execution_count": 0,
   "metadata": {
    "application/vnd.databricks.v1+cell": {
     "cellMetadata": {
      "byteLimit": 2048000,
      "rowLimit": 10000
     },
     "inputWidgets": {},
     "nuid": "ed33a441-8f5e-4af4-ba9e-35614391194d",
     "showTitle": false,
     "title": ""
    }
   },
   "outputs": [],
   "source": [
    "pc1.hd = 1000"
   ]
  },
  {
   "cell_type": "code",
   "execution_count": 0,
   "metadata": {
    "application/vnd.databricks.v1+cell": {
     "cellMetadata": {
      "byteLimit": 2048000,
      "rowLimit": 10000
     },
     "inputWidgets": {},
     "nuid": "9765a80e-eaf2-492e-baac-abad2f1b207a",
     "showTitle": false,
     "title": ""
    }
   },
   "outputs": [
    {
     "output_type": "stream",
     "name": "stdout",
     "output_type": "stream",
     "text": [
      "Out[7]: 1000"
     ]
    }
   ],
   "source": [
    "pc1.hd"
   ]
  },
  {
   "cell_type": "markdown",
   "metadata": {
    "application/vnd.databricks.v1+cell": {
     "cellMetadata": {},
     "inputWidgets": {},
     "nuid": "85318c72-9299-4b8f-8b25-0eb123e76e07",
     "showTitle": false,
     "title": ""
    }
   },
   "source": [
    "\n",
    "#### __init__ e self"
   ]
  },
  {
   "cell_type": "code",
   "execution_count": 0,
   "metadata": {
    "application/vnd.databricks.v1+cell": {
     "cellMetadata": {
      "byteLimit": 2048000,
      "rowLimit": 10000
     },
     "inputWidgets": {},
     "nuid": "71bce130-cc95-4d52-8830-a473ece4caf9",
     "showTitle": false,
     "title": ""
    }
   },
   "outputs": [],
   "source": [
    "class Computador:\n",
    "    # método chamado antes da gente criar nosso objeto\n",
    "    def teste(self):\n",
    "        print(\"Passando pelo teste\")\n",
    "    def __init__(self):\n",
    "        print(\"método __init__ chamado\")\n",
    "    "
   ]
  },
  {
   "cell_type": "code",
   "execution_count": 0,
   "metadata": {
    "application/vnd.databricks.v1+cell": {
     "cellMetadata": {
      "byteLimit": 2048000,
      "rowLimit": 10000
     },
     "inputWidgets": {},
     "nuid": "40fbfc7f-e5a8-4435-b8c8-f7fb0ba74f85",
     "showTitle": false,
     "title": ""
    }
   },
   "outputs": [
    {
     "output_type": "stream",
     "name": "stdout",
     "output_type": "stream",
     "text": [
      "método __init__ chamado\n"
     ]
    }
   ],
   "source": [
    "pc1 = Computador()"
   ]
  },
  {
   "cell_type": "code",
   "execution_count": 0,
   "metadata": {
    "application/vnd.databricks.v1+cell": {
     "cellMetadata": {
      "byteLimit": 2048000,
      "rowLimit": 10000
     },
     "inputWidgets": {},
     "nuid": "ae3de33d-7c31-4560-aec9-fd3112bffc2c",
     "showTitle": false,
     "title": ""
    }
   },
   "outputs": [],
   "source": [
    "class Computador:\n",
    "    # método chamado antes da gente criar nosso objeto\n",
    "    # self: o próprio objeto (ele mesmo recebe os atributos)\n",
    "    def __init__(self, cor, hd):\n",
    "        print(\"método __init__ chamado\")\n",
    "        # o objeto recebe pra ele mesmo essa cor e hd\n",
    "        self.cor = cor\n",
    "        self.hd = hd\n",
    "    "
   ]
  },
  {
   "cell_type": "code",
   "execution_count": 0,
   "metadata": {
    "application/vnd.databricks.v1+cell": {
     "cellMetadata": {
      "byteLimit": 2048000,
      "rowLimit": 10000
     },
     "inputWidgets": {},
     "nuid": "36752283-9396-42a6-9138-93c1429581c4",
     "showTitle": false,
     "title": ""
    }
   },
   "outputs": [
    {
     "output_type": "display_data",
     "data": {
      "text/plain": [
       "\u001B[0;31m---------------------------------------------------------------------------\u001B[0m\n",
       "\u001B[0;31mTypeError\u001B[0m                                 Traceback (most recent call last)\n",
       "File \u001B[0;32m<command-23269849828207>:1\u001B[0m\n",
       "\u001B[0;32m----> 1\u001B[0m pc1 \u001B[38;5;241m=\u001B[39m \u001B[43mComputador\u001B[49m\u001B[43m(\u001B[49m\u001B[43m)\u001B[49m\n",
       "\n",
       "\u001B[0;31mTypeError\u001B[0m: __init__() missing 2 required positional arguments: 'cor' and 'hd'"
      ]
     },
     "metadata": {
      "application/vnd.databricks.v1+output": {
       "arguments": {},
       "data": "\u001B[0;31m---------------------------------------------------------------------------\u001B[0m\n\u001B[0;31mTypeError\u001B[0m                                 Traceback (most recent call last)\nFile \u001B[0;32m<command-23269849828207>:1\u001B[0m\n\u001B[0;32m----> 1\u001B[0m pc1 \u001B[38;5;241m=\u001B[39m \u001B[43mComputador\u001B[49m\u001B[43m(\u001B[49m\u001B[43m)\u001B[49m\n\n\u001B[0;31mTypeError\u001B[0m: __init__() missing 2 required positional arguments: 'cor' and 'hd'",
       "errorSummary": "<span class='ansi-red-fg'>TypeError</span>: __init__() missing 2 required positional arguments: 'cor' and 'hd'",
       "errorTraceType": "ansi",
       "metadata": {},
       "type": "ipynbError"
      }
     },
     "output_type": "display_data"
    }
   ],
   "source": [
    "pc1 = Computador()"
   ]
  },
  {
   "cell_type": "code",
   "execution_count": 0,
   "metadata": {
    "application/vnd.databricks.v1+cell": {
     "cellMetadata": {
      "byteLimit": 2048000,
      "rowLimit": 10000
     },
     "inputWidgets": {},
     "nuid": "38b133e5-c6f7-44be-ab4d-ca37a10e7e64",
     "showTitle": false,
     "title": ""
    }
   },
   "outputs": [
    {
     "output_type": "stream",
     "name": "stdout",
     "output_type": "stream",
     "text": [
      "método __init__ chamado\n"
     ]
    }
   ],
   "source": [
    "pc1 = Computador(\"preto\", 1000)"
   ]
  },
  {
   "cell_type": "markdown",
   "metadata": {
    "application/vnd.databricks.v1+cell": {
     "cellMetadata": {},
     "inputWidgets": {},
     "nuid": "9bccb33b-9b00-4763-a97f-64cb73881563",
     "showTitle": false,
     "title": ""
    }
   },
   "source": [
    "#### Encapsulamento - getters e setters"
   ]
  },
  {
   "cell_type": "code",
   "execution_count": 0,
   "metadata": {
    "application/vnd.databricks.v1+cell": {
     "cellMetadata": {
      "byteLimit": 2048000,
      "rowLimit": 10000
     },
     "inputWidgets": {},
     "nuid": "24687034-b480-488e-916e-60cf55d0835d",
     "showTitle": false,
     "title": ""
    }
   },
   "outputs": [],
   "source": [
    "# atributo privado é um conceito da orientação a objetos\n",
    "\n",
    "class Fixa:\n",
    "    def __init__(self):\n",
    "        self.publico = 'publico'\n",
    "        self._privado_por_convencao = 'privado por convenção'\n",
    "        self.__privado_mesmo = 'privado mesmo'"
   ]
  },
  {
   "cell_type": "code",
   "execution_count": 0,
   "metadata": {
    "application/vnd.databricks.v1+cell": {
     "cellMetadata": {
      "byteLimit": 2048000,
      "rowLimit": 10000
     },
     "inputWidgets": {},
     "nuid": "593448d4-58bc-4eda-be5f-bc5d3020f37a",
     "showTitle": false,
     "title": ""
    }
   },
   "outputs": [],
   "source": [
    "fixa = Fixa()"
   ]
  },
  {
   "cell_type": "code",
   "execution_count": 0,
   "metadata": {
    "application/vnd.databricks.v1+cell": {
     "cellMetadata": {
      "byteLimit": 2048000,
      "rowLimit": 10000
     },
     "inputWidgets": {},
     "nuid": "0613e37b-3ff3-4b33-abed-30bb9d4d0c2a",
     "showTitle": false,
     "title": ""
    }
   },
   "outputs": [],
   "source": [
    "fixa.__privado_mesmo = 'ajustando privado'"
   ]
  },
  {
   "cell_type": "code",
   "execution_count": 0,
   "metadata": {
    "application/vnd.databricks.v1+cell": {
     "cellMetadata": {
      "byteLimit": 2048000,
      "rowLimit": 10000
     },
     "inputWidgets": {},
     "nuid": "06d0f3f4-039a-480b-bc0c-12f0062972cd",
     "showTitle": false,
     "title": ""
    }
   },
   "outputs": [
    {
     "output_type": "stream",
     "name": "stdout",
     "output_type": "stream",
     "text": [
      "Out[8]: 'ajustando privado'"
     ]
    }
   ],
   "source": [
    "fixa.__privado_mesmo"
   ]
  },
  {
   "cell_type": "code",
   "execution_count": 0,
   "metadata": {
    "application/vnd.databricks.v1+cell": {
     "cellMetadata": {
      "byteLimit": 2048000,
      "rowLimit": 10000
     },
     "inputWidgets": {},
     "nuid": "33d20df0-9549-4d1d-a5c3-d4acb2dd67b7",
     "showTitle": false,
     "title": ""
    }
   },
   "outputs": [
    {
     "output_type": "stream",
     "name": "stdout",
     "output_type": "stream",
     "text": [
      "Out[4]: 'publico'"
     ]
    }
   ],
   "source": [
    "fixa.publico"
   ]
  },
  {
   "cell_type": "code",
   "execution_count": 0,
   "metadata": {
    "application/vnd.databricks.v1+cell": {
     "cellMetadata": {
      "byteLimit": 2048000,
      "rowLimit": 10000
     },
     "inputWidgets": {},
     "nuid": "8cff208f-ed15-4ef4-b112-b2cf766234eb",
     "showTitle": false,
     "title": ""
    }
   },
   "outputs": [],
   "source": [
    "fixa._privado_por_convencao = 'modificando privado'"
   ]
  },
  {
   "cell_type": "code",
   "execution_count": 0,
   "metadata": {
    "application/vnd.databricks.v1+cell": {
     "cellMetadata": {
      "byteLimit": 2048000,
      "rowLimit": 10000
     },
     "inputWidgets": {},
     "nuid": "e4d96c5b-5b24-47f7-9727-2d27bb6faab0",
     "showTitle": false,
     "title": ""
    }
   },
   "outputs": [
    {
     "output_type": "stream",
     "name": "stdout",
     "output_type": "stream",
     "text": [
      "Out[6]: 'modificando privado'"
     ]
    }
   ],
   "source": [
    "fixa._privado_por_convencao"
   ]
  },
  {
   "cell_type": "code",
   "execution_count": 0,
   "metadata": {
    "application/vnd.databricks.v1+cell": {
     "cellMetadata": {
      "byteLimit": 2048000,
      "rowLimit": 10000
     },
     "inputWidgets": {},
     "nuid": "7647ca2f-238b-4536-8988-b1214cea102f",
     "showTitle": false,
     "title": ""
    }
   },
   "outputs": [],
   "source": [
    "class Computador:\n",
    "    def __init__(self, cor, hd):\n",
    "        self.__cor = cor\n",
    "        self.__hd = hd\n",
    "    \n",
    "    def get_cor(self):\n",
    "        return self.__cor\n",
    "    \n",
    "    def set_cor(self, valor):\n",
    "        self.__cor = valor"
   ]
  },
  {
   "cell_type": "code",
   "execution_count": 0,
   "metadata": {
    "application/vnd.databricks.v1+cell": {
     "cellMetadata": {
      "byteLimit": 2048000,
      "rowLimit": 10000
     },
     "inputWidgets": {},
     "nuid": "1fdd0028-c287-4a73-829e-f0147a5b5514",
     "showTitle": false,
     "title": ""
    }
   },
   "outputs": [],
   "source": [
    "pc1 = Computador('preto', 500)"
   ]
  },
  {
   "cell_type": "code",
   "execution_count": 0,
   "metadata": {
    "application/vnd.databricks.v1+cell": {
     "cellMetadata": {
      "byteLimit": 2048000,
      "rowLimit": 10000
     },
     "inputWidgets": {},
     "nuid": "8eae2843-2a24-4b5c-a2c4-dd41dd70d8ae",
     "showTitle": false,
     "title": ""
    }
   },
   "outputs": [
    {
     "output_type": "stream",
     "name": "stdout",
     "output_type": "stream",
     "text": [
      "Out[13]: 'preto'"
     ]
    }
   ],
   "source": [
    "pc1.get_cor()"
   ]
  },
  {
   "cell_type": "code",
   "execution_count": 0,
   "metadata": {
    "application/vnd.databricks.v1+cell": {
     "cellMetadata": {
      "byteLimit": 2048000,
      "rowLimit": 10000
     },
     "inputWidgets": {},
     "nuid": "a4c9eef1-029f-4c68-9eaa-901fec323c0c",
     "showTitle": false,
     "title": ""
    }
   },
   "outputs": [],
   "source": [
    "pc1.set_cor('branco')"
   ]
  },
  {
   "cell_type": "code",
   "execution_count": 0,
   "metadata": {
    "application/vnd.databricks.v1+cell": {
     "cellMetadata": {
      "byteLimit": 2048000,
      "rowLimit": 10000
     },
     "inputWidgets": {},
     "nuid": "881f6c72-567f-450a-9625-645cfcbaa43b",
     "showTitle": false,
     "title": ""
    }
   },
   "outputs": [
    {
     "output_type": "stream",
     "name": "stdout",
     "output_type": "stream",
     "text": [
      "Out[20]: 'branco'"
     ]
    }
   ],
   "source": [
    "pc1.get_cor()"
   ]
  },
  {
   "cell_type": "markdown",
   "metadata": {
    "application/vnd.databricks.v1+cell": {
     "cellMetadata": {},
     "inputWidgets": {},
     "nuid": "dd7da050-757b-445d-8028-45e9773e4250",
     "showTitle": false,
     "title": ""
    }
   },
   "source": [
    "#### Herança"
   ]
  },
  {
   "cell_type": "code",
   "execution_count": 0,
   "metadata": {
    "application/vnd.databricks.v1+cell": {
     "cellMetadata": {
      "byteLimit": 2048000,
      "rowLimit": 10000
     },
     "inputWidgets": {},
     "nuid": "7f16e4f3-92b6-4d88-b67b-c92325f6201e",
     "showTitle": false,
     "title": ""
    }
   },
   "outputs": [],
   "source": [
    "class Poligono:\n",
    "    __largura = None\n",
    "    __altura = None\n",
    "\n",
    "    def set_valores (self, largura, altura):\n",
    "        self.__largura = largura\n",
    "        self.__altura = altura\n",
    "    \n",
    "    def get_largura(self):\n",
    "        return self.__largura\n",
    "    \n",
    "    def set_largura(self, valor):\n",
    "        self.__largura = valor\n",
    "\n",
    "    def get_altura(self):\n",
    "        return self.__altura\n",
    "    \n",
    "    def set_altura(self, valor):\n",
    "        self.__altura = valor"
   ]
  },
  {
   "cell_type": "code",
   "execution_count": 0,
   "metadata": {
    "application/vnd.databricks.v1+cell": {
     "cellMetadata": {
      "byteLimit": 2048000,
      "rowLimit": 10000
     },
     "inputWidgets": {},
     "nuid": "9c238042-e2a4-4dae-8083-1565494c63b1",
     "showTitle": false,
     "title": ""
    }
   },
   "outputs": [],
   "source": [
    "class Retangulo(Poligono):\n",
    "    def get_area(self):\n",
    "        return self.get_largura() * self.get_altura()"
   ]
  },
  {
   "cell_type": "code",
   "execution_count": 0,
   "metadata": {
    "application/vnd.databricks.v1+cell": {
     "cellMetadata": {
      "byteLimit": 2048000,
      "rowLimit": 10000
     },
     "inputWidgets": {},
     "nuid": "2d7c25db-4732-408d-8ddc-26d53a0afa51",
     "showTitle": false,
     "title": ""
    }
   },
   "outputs": [],
   "source": [
    "class Triangulo(Poligono):\n",
    "    def get_area(self):\n",
    "        return self.get_largura() * self.get_altura() / 2"
   ]
  },
  {
   "cell_type": "code",
   "execution_count": 0,
   "metadata": {
    "application/vnd.databricks.v1+cell": {
     "cellMetadata": {
      "byteLimit": 2048000,
      "rowLimit": 10000
     },
     "inputWidgets": {},
     "nuid": "405ddb0c-4818-4d18-a27c-712c2bb3a11c",
     "showTitle": false,
     "title": ""
    }
   },
   "outputs": [],
   "source": [
    "ret = Retangulo()"
   ]
  },
  {
   "cell_type": "code",
   "execution_count": 0,
   "metadata": {
    "application/vnd.databricks.v1+cell": {
     "cellMetadata": {
      "byteLimit": 2048000,
      "rowLimit": 10000
     },
     "inputWidgets": {},
     "nuid": "78c46b8e-4446-4d0b-a12d-145d8de80e59",
     "showTitle": false,
     "title": ""
    }
   },
   "outputs": [],
   "source": [
    "ret.set_valores(2,3)"
   ]
  },
  {
   "cell_type": "code",
   "execution_count": 0,
   "metadata": {
    "application/vnd.databricks.v1+cell": {
     "cellMetadata": {
      "byteLimit": 2048000,
      "rowLimit": 10000
     },
     "inputWidgets": {},
     "nuid": "e8654dab-44db-4d8b-bf78-aebe284b0cbc",
     "showTitle": false,
     "title": ""
    }
   },
   "outputs": [
    {
     "output_type": "stream",
     "name": "stdout",
     "output_type": "stream",
     "text": [
      "Out[31]: 6"
     ]
    }
   ],
   "source": [
    "ret.get_area()"
   ]
  },
  {
   "cell_type": "markdown",
   "metadata": {
    "application/vnd.databricks.v1+cell": {
     "cellMetadata": {},
     "inputWidgets": {},
     "nuid": "fef3b648-4627-4e54-a423-c3e46a31c645",
     "showTitle": false,
     "title": ""
    }
   },
   "source": [
    "#### Composição"
   ]
  },
  {
   "cell_type": "code",
   "execution_count": 0,
   "metadata": {
    "application/vnd.databricks.v1+cell": {
     "cellMetadata": {
      "byteLimit": 2048000,
      "rowLimit": 10000
     },
     "inputWidgets": {},
     "nuid": "9b6230e0-1b16-4e46-96e8-978eb024fca7",
     "showTitle": false,
     "title": ""
    }
   },
   "outputs": [],
   "source": [
    "class Endereco:\n",
    "    def __init__(self, cep,\n",
    "                        rua=None,\n",
    "                        complemento=None, \n",
    "                        cidade=None, \n",
    "                        estado=None):\n",
    "        self.cep = cep\n",
    "\n",
    "        pass\n",
    "        # self.rua = rua\n",
    "        # self.complemento = complemento\n",
    "        # self.cidade = cidade\n",
    "        # self.estado = estado"
   ]
  },
  {
   "cell_type": "code",
   "execution_count": 0,
   "metadata": {
    "application/vnd.databricks.v1+cell": {
     "cellMetadata": {
      "byteLimit": 2048000,
      "rowLimit": 10000
     },
     "inputWidgets": {},
     "nuid": "b0da47b3-0e37-467d-aff2-00f1d1db0077",
     "showTitle": false,
     "title": ""
    }
   },
   "outputs": [],
   "source": [
    "class Pessoa:\n",
    "    def __init__(self, nome, idade, *args):\n",
    "        self.nome = nome\n",
    "        self.idade = idade\n",
    "        self.obj_endereco = Endereco(*args)"
   ]
  },
  {
   "cell_type": "code",
   "execution_count": 0,
   "metadata": {
    "application/vnd.databricks.v1+cell": {
     "cellMetadata": {
      "byteLimit": 2048000,
      "rowLimit": 10000
     },
     "inputWidgets": {},
     "nuid": "019f8633-877a-44fa-8ebe-f93e013f7582",
     "showTitle": false,
     "title": ""
    }
   },
   "outputs": [
    {
     "output_type": "display_data",
     "data": {
      "text/plain": [
       "\u001B[0;31m---------------------------------------------------------------------------\u001B[0m\n",
       "\u001B[0;31mTypeError\u001B[0m                                 Traceback (most recent call last)\n",
       "File \u001B[0;32m<command-2912902135921925>:1\u001B[0m\n",
       "\u001B[0;32m----> 1\u001B[0m ana \u001B[38;5;241m=\u001B[39m \u001B[43mPessoa\u001B[49m\u001B[43m(\u001B[49m\u001B[38;5;124;43m'\u001B[39;49m\u001B[38;5;124;43mAna\u001B[39;49m\u001B[38;5;124;43m'\u001B[39;49m\u001B[43m,\u001B[49m\u001B[43m \u001B[49m\u001B[38;5;241;43m28\u001B[39;49m\u001B[43m)\u001B[49m\n",
       "\n",
       "File \u001B[0;32m<command-2912902135921923>:5\u001B[0m, in \u001B[0;36mPessoa.__init__\u001B[0;34m(self, nome, idade, *args, **kwargs)\u001B[0m\n",
       "\u001B[1;32m      3\u001B[0m \u001B[38;5;28mself\u001B[39m\u001B[38;5;241m.\u001B[39mnome \u001B[38;5;241m=\u001B[39m nome\n",
       "\u001B[1;32m      4\u001B[0m \u001B[38;5;28mself\u001B[39m\u001B[38;5;241m.\u001B[39midade \u001B[38;5;241m=\u001B[39m idade\n",
       "\u001B[0;32m----> 5\u001B[0m \u001B[38;5;28mself\u001B[39m\u001B[38;5;241m.\u001B[39mobj_endereco \u001B[38;5;241m=\u001B[39m \u001B[43mEndereco\u001B[49m\u001B[43m(\u001B[49m\u001B[38;5;241;43m*\u001B[39;49m\u001B[43margs\u001B[49m\u001B[43m,\u001B[49m\u001B[43m \u001B[49m\u001B[38;5;241;43m*\u001B[39;49m\u001B[38;5;241;43m*\u001B[39;49m\u001B[43mkwargs\u001B[49m\u001B[43m)\u001B[49m\n",
       "\n",
       "\u001B[0;31mTypeError\u001B[0m: __init__() missing 1 required positional argument: 'cep'"
      ]
     },
     "metadata": {
      "application/vnd.databricks.v1+output": {
       "arguments": {},
       "data": "\u001B[0;31m---------------------------------------------------------------------------\u001B[0m\n\u001B[0;31mTypeError\u001B[0m                                 Traceback (most recent call last)\nFile \u001B[0;32m<command-2912902135921925>:1\u001B[0m\n\u001B[0;32m----> 1\u001B[0m ana \u001B[38;5;241m=\u001B[39m \u001B[43mPessoa\u001B[49m\u001B[43m(\u001B[49m\u001B[38;5;124;43m'\u001B[39;49m\u001B[38;5;124;43mAna\u001B[39;49m\u001B[38;5;124;43m'\u001B[39;49m\u001B[43m,\u001B[49m\u001B[43m \u001B[49m\u001B[38;5;241;43m28\u001B[39;49m\u001B[43m)\u001B[49m\n\nFile \u001B[0;32m<command-2912902135921923>:5\u001B[0m, in \u001B[0;36mPessoa.__init__\u001B[0;34m(self, nome, idade, *args, **kwargs)\u001B[0m\n\u001B[1;32m      3\u001B[0m \u001B[38;5;28mself\u001B[39m\u001B[38;5;241m.\u001B[39mnome \u001B[38;5;241m=\u001B[39m nome\n\u001B[1;32m      4\u001B[0m \u001B[38;5;28mself\u001B[39m\u001B[38;5;241m.\u001B[39midade \u001B[38;5;241m=\u001B[39m idade\n\u001B[0;32m----> 5\u001B[0m \u001B[38;5;28mself\u001B[39m\u001B[38;5;241m.\u001B[39mobj_endereco \u001B[38;5;241m=\u001B[39m \u001B[43mEndereco\u001B[49m\u001B[43m(\u001B[49m\u001B[38;5;241;43m*\u001B[39;49m\u001B[43margs\u001B[49m\u001B[43m,\u001B[49m\u001B[43m \u001B[49m\u001B[38;5;241;43m*\u001B[39;49m\u001B[38;5;241;43m*\u001B[39;49m\u001B[43mkwargs\u001B[49m\u001B[43m)\u001B[49m\n\n\u001B[0;31mTypeError\u001B[0m: __init__() missing 1 required positional argument: 'cep'",
       "errorSummary": "<span class='ansi-red-fg'>TypeError</span>: __init__() missing 1 required positional argument: 'cep'",
       "errorTraceType": "ansi",
       "metadata": {},
       "type": "ipynbError"
      }
     },
     "output_type": "display_data"
    }
   ],
   "source": [
    "ana = Pessoa('Ana', 28)"
   ]
  },
  {
   "cell_type": "code",
   "execution_count": 0,
   "metadata": {
    "application/vnd.databricks.v1+cell": {
     "cellMetadata": {
      "byteLimit": 2048000,
      "rowLimit": 10000
     },
     "inputWidgets": {},
     "nuid": "d0b990d9-b3a9-40d2-9d89-c8d7e8181cbe",
     "showTitle": false,
     "title": ""
    }
   },
   "outputs": [],
   "source": [
    "ana = Pessoa('Ana', 28, 23445678)"
   ]
  },
  {
   "cell_type": "code",
   "execution_count": 0,
   "metadata": {
    "application/vnd.databricks.v1+cell": {
     "cellMetadata": {
      "byteLimit": 2048000,
      "rowLimit": 10000
     },
     "inputWidgets": {},
     "nuid": "9d30e71c-257f-4074-9f2f-c0b125d97e37",
     "showTitle": false,
     "title": ""
    }
   },
   "outputs": [
    {
     "output_type": "stream",
     "name": "stdout",
     "output_type": "stream",
     "text": [
      "Out[50]: <__main__.Endereco at 0x7f3b59105d00>"
     ]
    }
   ],
   "source": [
    "ana.obj_endereco"
   ]
  },
  {
   "cell_type": "code",
   "execution_count": 0,
   "metadata": {
    "application/vnd.databricks.v1+cell": {
     "cellMetadata": {
      "byteLimit": 2048000,
      "rowLimit": 10000
     },
     "inputWidgets": {},
     "nuid": "104394c8-880e-43ae-a5d8-23c696c48dc5",
     "showTitle": false,
     "title": ""
    }
   },
   "outputs": [
    {
     "output_type": "stream",
     "name": "stdout",
     "output_type": "stream",
     "text": [
      "Out[51]: 23445678"
     ]
    }
   ],
   "source": [
    "ana.obj_endereco.cep"
   ]
  },
  {
   "cell_type": "markdown",
   "metadata": {
    "application/vnd.databricks.v1+cell": {
     "cellMetadata": {},
     "inputWidgets": {},
     "nuid": "5f74e7f3-3790-4d1e-b647-53c20cde03a4",
     "showTitle": false,
     "title": ""
    }
   },
   "source": [
    "#### Agregação"
   ]
  },
  {
   "cell_type": "code",
   "execution_count": 0,
   "metadata": {
    "application/vnd.databricks.v1+cell": {
     "cellMetadata": {},
     "inputWidgets": {},
     "nuid": "8d8f58b1-42ff-4b49-8459-cce66b93a14e",
     "showTitle": false,
     "title": ""
    }
   },
   "outputs": [],
   "source": [
    "# Endereço será passado como um argumento da classe e não ficará acoplado como antes\n",
    "# Dessa forma, se excluirmos uma pessoa, o endereço se manterá. No formato antigo, ao excluir uma pessoa, a gente tb exclui o endereço"
   ]
  },
  {
   "cell_type": "code",
   "execution_count": 0,
   "metadata": {
    "application/vnd.databricks.v1+cell": {
     "cellMetadata": {
      "byteLimit": 2048000,
      "rowLimit": 10000
     },
     "inputWidgets": {},
     "nuid": "f9473cae-2c11-4793-8ff8-685463f5fc43",
     "showTitle": false,
     "title": ""
    }
   },
   "outputs": [],
   "source": [
    "class Pessoa:\n",
    "    def __init__(self, nome, idade, endereco):\n",
    "        self.nome = nome\n",
    "        self.idade = idade\n",
    "        self.obj_endereco = endereco"
   ]
  },
  {
   "cell_type": "code",
   "execution_count": 0,
   "metadata": {
    "application/vnd.databricks.v1+cell": {
     "cellMetadata": {
      "byteLimit": 2048000,
      "rowLimit": 10000
     },
     "inputWidgets": {},
     "nuid": "64d563e6-6ff9-4f3a-8a1c-f51b63cf9b5e",
     "showTitle": false,
     "title": ""
    }
   },
   "outputs": [],
   "source": [
    "ana_end = Endereco(23445678)"
   ]
  },
  {
   "cell_type": "code",
   "execution_count": 0,
   "metadata": {
    "application/vnd.databricks.v1+cell": {
     "cellMetadata": {
      "byteLimit": 2048000,
      "rowLimit": 10000
     },
     "inputWidgets": {},
     "nuid": "f809bdc0-c9ea-4f0d-80e4-51a572f00c74",
     "showTitle": false,
     "title": ""
    }
   },
   "outputs": [],
   "source": [
    "ana = Pessoa('Ana', 28, ana_end)"
   ]
  },
  {
   "cell_type": "code",
   "execution_count": 0,
   "metadata": {
    "application/vnd.databricks.v1+cell": {
     "cellMetadata": {},
     "inputWidgets": {},
     "nuid": "03b2e6d0-3fcd-4cca-a007-914032bde4f7",
     "showTitle": false,
     "title": ""
    }
   },
   "outputs": [],
   "source": []
  }
 ],
 "metadata": {
  "application/vnd.databricks.v1+notebook": {
   "dashboards": [],
   "environmentMetadata": null,
   "language": "python",
   "notebookMetadata": {
    "pythonIndentUnit": 4
   },
   "notebookName": "Object-oriented programming",
   "widgets": {}
  }
 },
 "nbformat": 4,
 "nbformat_minor": 0
}
