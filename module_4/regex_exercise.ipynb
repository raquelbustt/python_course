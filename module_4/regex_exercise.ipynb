{
 "cells": [
  {
   "cell_type": "markdown",
   "metadata": {},
   "source": [
    "### Regex"
   ]
  },
  {
   "cell_type": "code",
   "execution_count": 5,
   "metadata": {},
   "outputs": [],
   "source": [
    "import re"
   ]
  },
  {
   "cell_type": "code",
   "execution_count": 3,
   "metadata": {},
   "outputs": [],
   "source": [
    "def find (regex, text, option=\"match\"):\n",
    "    p = re.compile(regex)\n",
    "    method = getattr(p, option, None)\n",
    "    m = method(text)\n",
    "    if m:\n",
    "        if option != 'findall':\n",
    "            return(print(m.group()))\n",
    "    return print(m)"
   ]
  },
  {
   "cell_type": "markdown",
   "metadata": {},
   "source": [
    "#### Identifying email pattern"
   ]
  },
  {
   "cell_type": "code",
   "execution_count": 9,
   "metadata": {},
   "outputs": [
    {
     "name": "stdout",
     "output_type": "stream",
     "text": [
      "['cat@gmail.com', 'dog-hi@hotmail.com', 'princess@yahoo.com', 'test_1@myemail.com', 'rabb1t@animals-test.com']\n"
     ]
    }
   ],
   "source": [
    "# regex = r'[\\w-]+@[\\w-]+.\\w+'\n",
    "regex = r'[a-zA-Z0-9-_-]+@[a-zA-Z0-9-_-]+.[a-zA-Z0-9-_-]+'\n",
    "text = \"\"\"\n",
    "cat@gmail.com\n",
    "dog-hi@hotmail.com\n",
    "princess@yahoo.com\n",
    "test_1@myemail.com\n",
    "rabb1t@animals-test.com\n",
    "\"\"\"\n",
    "find(regex, text, 'findall')"
   ]
  },
  {
   "cell_type": "markdown",
   "metadata": {},
   "source": [
    "#### Identifying websites pattern"
   ]
  },
  {
   "cell_type": "code",
   "execution_count": 25,
   "metadata": {},
   "outputs": [
    {
     "name": "stdout",
     "output_type": "stream",
     "text": [
      "https://testing.com\n",
      "http://www.mysite.com\n",
      "https://www.site.org\n",
      "https://brazillianwebsite.com.br\n"
     ]
    }
   ],
   "source": [
    "regex = r'https?://(www\\.)?(\\w+)\\.(com|net|org)(\\.\\w+)?'\n",
    "text = \"\"\"\n",
    "https://testing.com\n",
    "http://www.mysite.com\n",
    "https://www.site.org\n",
    "https://brazillianwebsite.com.br\n",
    "\"\"\"\n",
    "p = re.compile(regex)\n",
    "matches = p.finditer(text)\n",
    "for m in matches:\n",
    "    print(m.group())"
   ]
  },
  {
   "cell_type": "code",
   "execution_count": 28,
   "metadata": {},
   "outputs": [
    {
     "name": "stdout",
     "output_type": "stream",
     "text": [
      "testing\n",
      "mysite\n",
      "site\n",
      "brazillianwebsite\n"
     ]
    }
   ],
   "source": [
    "p = re.compile(regex)\n",
    "matches = p.finditer(text)\n",
    "for m in matches:\n",
    "    print(m.group(2))"
   ]
  }
 ],
 "metadata": {
  "kernelspec": {
   "display_name": "Python 3",
   "language": "python",
   "name": "python3"
  },
  "language_info": {
   "codemirror_mode": {
    "name": "ipython",
    "version": 3
   },
   "file_extension": ".py",
   "mimetype": "text/x-python",
   "name": "python",
   "nbconvert_exporter": "python",
   "pygments_lexer": "ipython3",
   "version": "3.9.6"
  }
 },
 "nbformat": 4,
 "nbformat_minor": 2
}
