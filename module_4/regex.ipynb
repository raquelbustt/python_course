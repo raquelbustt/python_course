{
 "cells": [
  {
   "cell_type": "markdown",
   "metadata": {},
   "source": [
    "### Regex"
   ]
  },
  {
   "cell_type": "code",
   "execution_count": 2,
   "metadata": {},
   "outputs": [],
   "source": [
    "import re"
   ]
  },
  {
   "cell_type": "code",
   "execution_count": 3,
   "metadata": {},
   "outputs": [],
   "source": [
    "def find (regex, text, option=\"match\"):\n",
    "    p = re.compile(regex)\n",
    "    method = getattr(p, option, None)\n",
    "    m = method(text)\n",
    "    if m:\n",
    "        if option != 'findall':\n",
    "            return(print(m.group()))\n",
    "    return print(m)"
   ]
  },
  {
   "cell_type": "code",
   "execution_count": 10,
   "metadata": {},
   "outputs": [
    {
     "name": "stdout",
     "output_type": "stream",
     "text": [
      "abc\n"
     ]
    }
   ],
   "source": [
    "regex = 'abc'\n",
    "text = 'abc babcd'\n",
    "\n",
    "find(regex, text, 'search')"
   ]
  },
  {
   "cell_type": "code",
   "execution_count": 11,
   "metadata": {},
   "outputs": [
    {
     "name": "stdout",
     "output_type": "stream",
     "text": [
      "['abc', 'abc']\n"
     ]
    }
   ],
   "source": [
    "find(regex, text, 'findall')"
   ]
  },
  {
   "cell_type": "code",
   "execution_count": 14,
   "metadata": {},
   "outputs": [
    {
     "name": "stdout",
     "output_type": "stream",
     "text": [
      "['1', '0', '1', '4', '1', '3']\n"
     ]
    }
   ],
   "source": [
    "regex = '[0-9]'\n",
    "text = 'Try1ng t0 f1nd numbers here 4ever 13'\n",
    "find(regex, text, 'findall')"
   ]
  },
  {
   "cell_type": "code",
   "execution_count": 15,
   "metadata": {},
   "outputs": [
    {
     "name": "stdout",
     "output_type": "stream",
     "text": [
      "['1', '0', '1', '4', '13']\n"
     ]
    }
   ],
   "source": [
    "# Use + going to find 13\n",
    "regex = '[0-9]+'\n",
    "text = 'Try1ng t0 f1nd numbers here 4ever 13'\n",
    "find(regex, text, 'findall')"
   ]
  },
  {
   "cell_type": "code",
   "execution_count": 20,
   "metadata": {},
   "outputs": [
    {
     "name": "stdout",
     "output_type": "stream",
     "text": [
      "['Try', 'ng t', ' not f', 'nd numbers here ', 'ever ']\n"
     ]
    }
   ],
   "source": [
    "# ^ = not in\n",
    "regex = '[^0-9]+'\n",
    "text = 'Try1ng t0 not f1nd numbers here 4ever 13'\n",
    "find(regex, text, 'findall')"
   ]
  },
  {
   "cell_type": "code",
   "execution_count": 22,
   "metadata": {},
   "outputs": [
    {
     "name": "stdout",
     "output_type": "stream",
     "text": [
      "['g', 'f', 'd', 'be', 'he', 'e', 'e', 'e']\n"
     ]
    }
   ],
   "source": [
    "# ^ = not in\n",
    "regex = '[a-h]+'\n",
    "text = 'Try1ng t0 not f1nd numbers here 4ever 13'\n",
    "find(regex, text, 'findall')"
   ]
  },
  {
   "cell_type": "markdown",
   "metadata": {},
   "source": [
    "#### metacharacter"
   ]
  },
  {
   "cell_type": "code",
   "execution_count": 26,
   "metadata": {},
   "outputs": [
    {
     "name": "stdout",
     "output_type": "stream",
     "text": [
      "['$200']\n"
     ]
    }
   ],
   "source": [
    "regex = '[0-9$]+'\n",
    "text = 'The price is $200'\n",
    "find(regex, text, 'findall')"
   ]
  },
  {
   "cell_type": "code",
   "execution_count": 38,
   "metadata": {},
   "outputs": [
    {
     "name": "stdout",
     "output_type": "stream",
     "text": [
      "['The', 'price', 'is', 'word', 'together']\n"
     ]
    }
   ],
   "source": [
    "# in this way it going to split word_together because of the _\n",
    "regex = '[a-zA-Z]+'\n",
    "text = 'The price is $200 word_together'\n",
    "find(regex, text, 'findall')"
   ]
  },
  {
   "cell_type": "code",
   "execution_count": 37,
   "metadata": {},
   "outputs": [
    {
     "name": "stdout",
     "output_type": "stream",
     "text": [
      "['The', 'price', 'is', 'word_together']\n"
     ]
    }
   ],
   "source": [
    "# how to resolve it:\n",
    "regex = '[a-z_A-Z]+'\n",
    "text = 'The price is $200 word_together'\n",
    "find(regex, text, 'findall')"
   ]
  },
  {
   "cell_type": "code",
   "execution_count": 32,
   "metadata": {},
   "outputs": [
    {
     "name": "stdout",
     "output_type": "stream",
     "text": [
      "[]\n"
     ]
    }
   ],
   "source": [
    "# what about use []? \n",
    "regex = '[a-z[]]+'\n",
    "text = 'The price is [$200] word_together'\n",
    "find(regex, text, 'findall')"
   ]
  },
  {
   "cell_type": "code",
   "execution_count": 36,
   "metadata": {},
   "outputs": [
    {
     "name": "stdout",
     "output_type": "stream",
     "text": [
      "['The', 'price', 'is', '[', ']', 'word', 'together']\n"
     ]
    }
   ],
   "source": [
    "# to fix it, we need to use \\\n",
    "regex='[a-zA-Z\\[\\]]+'\n",
    "text = 'The price is [$200] word_together'\n",
    "find(regex, text, 'findall')"
   ]
  },
  {
   "cell_type": "markdown",
   "metadata": {},
   "source": []
  },
  {
   "cell_type": "markdown",
   "metadata": {},
   "source": [
    "#### Special sequences\n",
    "* **\\d** $\\rightarrow$ any digit $\\rightarrow$ [0-9].\n",
    "\n",
    "* **\\D** $\\rightarrow$ any no digit $\\rightarrow$ [^0-9].\n",
    "\n",
    "* **\\s** $\\rightarrow$ any character white space $\\rightarrow$ [\\t\\n\\r\\f\\v].\n",
    "\n",
    "* **\\S** $\\rightarrow$ any character with no white space $\\rightarrow$ [^\\t\\n\\r\\f\\v].\n",
    "\n",
    "* **\\w** $\\rightarrow$ any alphanumeric character $\\rightarrow$ [a-zA-Zà-úÁ-Ú0-9_].\n",
    "\n",
    "* **\\W** $\\rightarrow$ any no alphanumeric character $\\rightarrow$ [^a-zA-Zà-úÁ-Ú0-9_]."
   ]
  },
  {
   "cell_type": "code",
   "execution_count": 40,
   "metadata": {},
   "outputs": [
    {
     "name": "stdout",
     "output_type": "stream",
     "text": [
      "['The', 'price', 'is', '200', 'word_together']\n"
     ]
    }
   ],
   "source": [
    "# to fix it, we need to use \\\n",
    "regex='[\\w]+'\n",
    "text = 'The price is [$200] word_together'\n",
    "find(regex, text, 'findall')"
   ]
  },
  {
   "cell_type": "code",
   "execution_count": 41,
   "metadata": {},
   "outputs": [
    {
     "name": "stdout",
     "output_type": "stream",
     "text": [
      "['The', 'price', 'is', '[$200]', 'word_together']\n"
     ]
    }
   ],
   "source": [
    "# to fix it, we need to use \\\n",
    "regex='[\\S]+'\n",
    "text = 'The price is [$200] word_together'\n",
    "find(regex, text, 'findall')"
   ]
  },
  {
   "cell_type": "code",
   "execution_count": 42,
   "metadata": {},
   "outputs": [
    {
     "name": "stdout",
     "output_type": "stream",
     "text": [
      "['.', '.']\n"
     ]
    }
   ],
   "source": [
    "# raw string = r\n",
    "regex=r'\\.'\n",
    "text = 'Put this email email@email.com in this website.com'\n",
    "find(regex, text, 'findall')"
   ]
  },
  {
   "cell_type": "code",
   "execution_count": 55,
   "metadata": {},
   "outputs": [
    {
     "name": "stdout",
     "output_type": "stream",
     "text": [
      "['email.com', 'website.com']\n"
     ]
    }
   ],
   "source": [
    "# raw string = r\n",
    "regex=r'\\w+@?\\.com'\n",
    "text = 'Put this email email@email.com in this website.com'\n",
    "find(regex, text, 'findall')"
   ]
  },
  {
   "cell_type": "markdown",
   "metadata": {},
   "source": [
    "- \\b: at the word's beginning or the end"
   ]
  },
  {
   "cell_type": "code",
   "execution_count": 66,
   "metadata": {},
   "outputs": [
    {
     "name": "stdout",
     "output_type": "stream",
     "text": [
      "['ta']\n"
     ]
    }
   ],
   "source": [
    "regex=r'ta\\b'\n",
    "text = 'Roberta'\n",
    "find(regex, text, 'findall')"
   ]
  },
  {
   "cell_type": "code",
   "execution_count": 67,
   "metadata": {},
   "outputs": [
    {
     "name": "stdout",
     "output_type": "stream",
     "text": [
      "['ta']\n"
     ]
    }
   ],
   "source": [
    "regex=r'ta\\B'\n",
    "text = 'tampa e Roberta'\n",
    "find(regex, text, 'findall')"
   ]
  },
  {
   "cell_type": "markdown",
   "metadata": {},
   "source": [
    "- {m}: numbers of copies"
   ]
  },
  {
   "cell_type": "code",
   "execution_count": 68,
   "metadata": {},
   "outputs": [
    {
     "name": "stdout",
     "output_type": "stream",
     "text": [
      "['99999-9999', '91234-5678']\n"
     ]
    }
   ],
   "source": [
    "regex = r'\\d\\d\\d\\d\\d-\\d\\d\\d\\d'\n",
    "text = 'Phones 99999-9999, 91234-5678'\n",
    "find(regex, text, 'findall')"
   ]
  },
  {
   "cell_type": "code",
   "execution_count": 69,
   "metadata": {},
   "outputs": [
    {
     "name": "stdout",
     "output_type": "stream",
     "text": [
      "['99999-9999', '91234-5678']\n"
     ]
    }
   ],
   "source": [
    "regex = r'\\d{5}-\\d{4}'\n",
    "text = 'Phones 99999-9999, 91234-5678'\n",
    "find(regex, text, 'findall')"
   ]
  },
  {
   "cell_type": "code",
   "execution_count": 70,
   "metadata": {},
   "outputs": [
    {
     "name": "stdout",
     "output_type": "stream",
     "text": [
      "['99999-9999', '91234.5678']\n"
     ]
    }
   ],
   "source": [
    "regex = r'\\d{5}[-.]?\\d{4}'\n",
    "text = 'Phones 99999-9999, 91234.5678'\n",
    "find(regex, text, 'findall')"
   ]
  },
  {
   "cell_type": "code",
   "execution_count": 72,
   "metadata": {},
   "outputs": [
    {
     "name": "stdout",
     "output_type": "stream",
     "text": [
      "['gato', 'pato']\n"
     ]
    }
   ],
   "source": [
    "regex = r'[^r]ato'\n",
    "text = 'rato gato pato'\n",
    "find(regex,text, 'findall')"
   ]
  },
  {
   "cell_type": "markdown",
   "metadata": {},
   "source": [
    "#### String replacement"
   ]
  },
  {
   "cell_type": "code",
   "execution_count": 7,
   "metadata": {},
   "outputs": [
    {
     "name": "stdout",
     "output_type": "stream",
     "text": [
      "testing\n",
      "mysite\n",
      "site\n",
      "brazillianwebsite\n"
     ]
    }
   ],
   "source": [
    "regex = r'https?://(www\\.)?(\\w+)\\.(com|net|org)(\\.\\w+)?'\n",
    "text = \"\"\"\n",
    "https://testing.com\n",
    "http://www.mysite.com\n",
    "https://www.site.org\n",
    "https://brazillianwebsite.com.br\n",
    "\"\"\"\n",
    "p = re.compile(regex)\n",
    "matches = p.finditer(text)\n",
    "for m in matches:\n",
    "    print(m.group(2))"
   ]
  },
  {
   "cell_type": "code",
   "execution_count": 13,
   "metadata": {},
   "outputs": [
    {
     "name": "stdout",
     "output_type": "stream",
     "text": [
      "\n",
      "https://testing.com\n",
      "https://mysite.com\n",
      "https://site.org\n",
      "https://brazillianwebsite.com\n",
      "\n"
     ]
    }
   ],
   "source": [
    "normalized_sites = p.sub(r'https://\\2.\\3', text)\n",
    "print(normalized_sites)"
   ]
  },
  {
   "cell_type": "markdown",
   "metadata": {},
   "source": [
    "#### Match"
   ]
  },
  {
   "cell_type": "code",
   "execution_count": 16,
   "metadata": {},
   "outputs": [
    {
     "name": "stdout",
     "output_type": "stream",
     "text": [
      "https://testing.com\n"
     ]
    }
   ],
   "source": [
    "regex = r'https?://(www\\.)?(\\w+)\\.(com|net|org)(\\.\\w+)?'\n",
    "text = \"\"\"https://testing.com\n",
    "http://www.mysite.com\n",
    "https://www.site.org\n",
    "https://brazillianwebsite.com.br\n",
    "\"\"\"\n",
    "p = re.compile(regex)\n",
    "match = p.match(text)\n",
    "if match:\n",
    "    print(match.group())\n",
    "else:\n",
    "    print(match)"
   ]
  },
  {
   "cell_type": "code",
   "execution_count": 18,
   "metadata": {},
   "outputs": [
    {
     "name": "stdout",
     "output_type": "stream",
     "text": [
      "None\n"
     ]
    }
   ],
   "source": [
    "regex = r'https?://(www\\.)?(\\w+)\\.(com|net|org)(\\.\\w+)?'\n",
    "text = \"\"\"\n",
    "https://testing.com\n",
    "http://www.mysite.com\n",
    "https://www.site.org\n",
    "https://brazillianwebsite.com.br\n",
    "\"\"\"\n",
    "p = re.compile(regex)\n",
    "match = p.match(text)\n",
    "if match:\n",
    "    print(match.group())\n",
    "else:\n",
    "    print(match)"
   ]
  },
  {
   "cell_type": "markdown",
   "metadata": {},
   "source": [
    "#### Search"
   ]
  },
  {
   "cell_type": "code",
   "execution_count": 19,
   "metadata": {},
   "outputs": [
    {
     "name": "stdout",
     "output_type": "stream",
     "text": [
      "[('', 'testing', 'com', ''), ('www.', 'mysite', 'com', ''), ('www.', 'site', 'org', ''), ('', 'brazillianwebsite', 'com', '.br')]\n"
     ]
    }
   ],
   "source": [
    "regex = r'https?://(www\\.)?(\\w+)\\.(com|net|org)(\\.\\w+)?'\n",
    "text = \"\"\"\n",
    "https://testing.com\n",
    "http://www.mysite.com\n",
    "https://www.site.org\n",
    "https://brazillianwebsite.com.br\n",
    "\"\"\"\n",
    "p = re.compile(regex)\n",
    "matches_list = p.findall(text)\n",
    "print(matches_list)\n"
   ]
  },
  {
   "cell_type": "markdown",
   "metadata": {},
   "source": [
    "#### finditer"
   ]
  },
  {
   "cell_type": "code",
   "execution_count": 20,
   "metadata": {},
   "outputs": [],
   "source": [
    "regex = r'https?://(www\\.)?(\\w+)\\.(com|net|org)(\\.\\w+)?'\n",
    "text = \"\"\"\n",
    "https://testing.com\n",
    "http://www.mysite.com\n",
    "https://www.site.org\n",
    "https://brazillianwebsite.com.br\n",
    "\"\"\"\n",
    "p = re.compile(regex)\n",
    "m = p.finditer(text)"
   ]
  },
  {
   "cell_type": "code",
   "execution_count": 21,
   "metadata": {},
   "outputs": [
    {
     "data": {
      "text/plain": [
       "<callable_iterator at 0x109eaa880>"
      ]
     },
     "execution_count": 21,
     "metadata": {},
     "output_type": "execute_result"
    }
   ],
   "source": [
    "m"
   ]
  },
  {
   "cell_type": "code",
   "execution_count": 23,
   "metadata": {},
   "outputs": [
    {
     "data": {
      "text/plain": [
       "<re.Match object; span=(1, 20), match='https://testing.com'>"
      ]
     },
     "execution_count": 23,
     "metadata": {},
     "output_type": "execute_result"
    }
   ],
   "source": [
    "next(m)"
   ]
  },
  {
   "cell_type": "code",
   "execution_count": 24,
   "metadata": {},
   "outputs": [
    {
     "data": {
      "text/plain": [
       "<re.Match object; span=(21, 42), match='http://www.mysite.com'>"
      ]
     },
     "execution_count": 24,
     "metadata": {},
     "output_type": "execute_result"
    }
   ],
   "source": [
    "next(m)"
   ]
  },
  {
   "cell_type": "code",
   "execution_count": 25,
   "metadata": {},
   "outputs": [
    {
     "data": {
      "text/plain": [
       "'https://www.site.org'"
      ]
     },
     "execution_count": 25,
     "metadata": {},
     "output_type": "execute_result"
    }
   ],
   "source": [
    "next(m).group()"
   ]
  }
 ],
 "metadata": {
  "kernelspec": {
   "display_name": "Python 3",
   "language": "python",
   "name": "python3"
  },
  "language_info": {
   "codemirror_mode": {
    "name": "ipython",
    "version": 3
   },
   "file_extension": ".py",
   "mimetype": "text/x-python",
   "name": "python",
   "nbconvert_exporter": "python",
   "pygments_lexer": "ipython3",
   "version": "3.9.6"
  }
 },
 "nbformat": 4,
 "nbformat_minor": 2
}
