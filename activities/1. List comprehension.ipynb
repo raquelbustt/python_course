{
 "cells": [
  {
   "cell_type": "code",
   "execution_count": 0,
   "metadata": {
    "application/vnd.databricks.v1+cell": {
     "cellMetadata": {
      "byteLimit": 2048000,
      "rowLimit": 10000
     },
     "inputWidgets": {},
     "nuid": "9edcc3f2-ce21-46c2-bb6a-8660ed2f1177",
     "showTitle": false,
     "title": ""
    }
   },
   "outputs": [
    {
     "output_type": "stream",
     "name": "stdout",
     "output_type": "stream",
     "text": [
      "Out[4]: [0, 1, 2, 3, 4]"
     ]
    }
   ],
   "source": [
    "list_test = [0,1,2,3,4]\n",
    "list_test"
   ]
  },
  {
   "cell_type": "code",
   "execution_count": 0,
   "metadata": {
    "application/vnd.databricks.v1+cell": {
     "cellMetadata": {
      "byteLimit": 2048000,
      "rowLimit": 10000
     },
     "inputWidgets": {},
     "nuid": "9427c53e-318c-43fa-85b3-7570e8a3b814",
     "showTitle": false,
     "title": ""
    }
   },
   "outputs": [
    {
     "output_type": "stream",
     "name": "stdout",
     "output_type": "stream",
     "text": [
      "Out[3]: [0, 2, 4, 6, 8]"
     ]
    }
   ],
   "source": [
    "[x*2 for x in range(5)]"
   ]
  },
  {
   "cell_type": "code",
   "execution_count": 0,
   "metadata": {
    "application/vnd.databricks.v1+cell": {
     "cellMetadata": {
      "byteLimit": 2048000,
      "rowLimit": 10000
     },
     "inputWidgets": {},
     "nuid": "2276c9ef-75bb-4f2d-9546-eacec8b08090",
     "showTitle": false,
     "title": ""
    }
   },
   "outputs": [
    {
     "output_type": "stream",
     "name": "stdout",
     "output_type": "stream",
     "text": [
      "Out[5]: [0, 2, 4, 6, 8]"
     ]
    }
   ],
   "source": [
    "[x for x in range(10) if x % 2 == 0]"
   ]
  },
  {
   "cell_type": "code",
   "execution_count": 0,
   "metadata": {
    "application/vnd.databricks.v1+cell": {
     "cellMetadata": {
      "byteLimit": 2048000,
      "rowLimit": 10000
     },
     "inputWidgets": {},
     "nuid": "0f36bf2d-4d0e-470f-97d7-8a8579b595f7",
     "showTitle": false,
     "title": ""
    }
   },
   "outputs": [
    {
     "output_type": "stream",
     "name": "stdout",
     "output_type": "stream",
     "text": [
      "Out[7]: [0, 30, 60, 90]"
     ]
    }
   ],
   "source": [
    "[x*10 for x in range(10) if x % 3 == 0]"
   ]
  },
  {
   "cell_type": "code",
   "execution_count": 0,
   "metadata": {
    "application/vnd.databricks.v1+cell": {
     "cellMetadata": {
      "byteLimit": 2048000,
      "rowLimit": 10000
     },
     "inputWidgets": {},
     "nuid": "d6c75967-942c-4d63-a4af-a08184d813a5",
     "showTitle": false,
     "title": ""
    }
   },
   "outputs": [],
   "source": [
    "people_group = [ ' Ana', 'felipe ', 'RAQUEL']"
   ]
  },
  {
   "cell_type": "code",
   "execution_count": 0,
   "metadata": {
    "application/vnd.databricks.v1+cell": {
     "cellMetadata": {
      "byteLimit": 2048000,
      "rowLimit": 10000
     },
     "inputWidgets": {},
     "nuid": "94d50ba6-2ed4-46af-b519-51512ae24b71",
     "showTitle": false,
     "title": ""
    }
   },
   "outputs": [
    {
     "output_type": "stream",
     "name": "stdout",
     "output_type": "stream",
     "text": [
      "Out[12]: 'Raquel'"
     ]
    }
   ],
   "source": [
    "people_group[2].strip().capitalize()"
   ]
  },
  {
   "cell_type": "code",
   "execution_count": 0,
   "metadata": {
    "application/vnd.databricks.v1+cell": {
     "cellMetadata": {
      "byteLimit": 2048000,
      "rowLimit": 10000
     },
     "inputWidgets": {},
     "nuid": "d27c0014-1583-40b3-88b7-d3f95f4e3b04",
     "showTitle": false,
     "title": ""
    }
   },
   "outputs": [
    {
     "output_type": "stream",
     "name": "stdout",
     "output_type": "stream",
     "text": [
      "Out[18]: ['Ana', 'Felipe', 'Raquel']"
     ]
    }
   ],
   "source": [
    "people_group = [person.strip().capitalize() for person in people_group]\n",
    "people_group"
   ]
  },
  {
   "cell_type": "markdown",
   "metadata": {
    "application/vnd.databricks.v1+cell": {
     "cellMetadata": {},
     "inputWidgets": {},
     "nuid": "0e0fd18d-0c5d-4d19-ad6b-ad1845805813",
     "showTitle": false,
     "title": ""
    }
   },
   "source": [
    "#### With more than one 'for'"
   ]
  },
  {
   "cell_type": "code",
   "execution_count": 0,
   "metadata": {
    "application/vnd.databricks.v1+cell": {
     "cellMetadata": {
      "byteLimit": 2048000,
      "rowLimit": 10000
     },
     "inputWidgets": {},
     "nuid": "66dff3b5-d800-4bce-974e-83f3c4feb2a0",
     "showTitle": false,
     "title": ""
    }
   },
   "outputs": [],
   "source": [
    "raquels_friends = ['josi', 'pedro', 'paulo']\n",
    "felipes_friends = ['manu', 'josi', 'pedro']"
   ]
  },
  {
   "cell_type": "code",
   "execution_count": 0,
   "metadata": {
    "application/vnd.databricks.v1+cell": {
     "cellMetadata": {
      "byteLimit": 2048000,
      "rowLimit": 10000
     },
     "inputWidgets": {},
     "nuid": "abe35e18-2acc-4814-9d8a-602e2c5aa5a7",
     "showTitle": false,
     "title": ""
    }
   },
   "outputs": [
    {
     "output_type": "stream",
     "name": "stdout",
     "output_type": "stream",
     "text": [
      "Out[23]: ['josi', 'pedro']"
     ]
    }
   ],
   "source": [
    "[ff for rf in raquels_friends for ff in felipes_friends if rf == ff]"
   ]
  },
  {
   "cell_type": "code",
   "execution_count": 0,
   "metadata": {
    "application/vnd.databricks.v1+cell": {
     "cellMetadata": {
      "byteLimit": 2048000,
      "rowLimit": 10000
     },
     "inputWidgets": {},
     "nuid": "9ce14c84-fc10-46d7-94ab-16ef74aa4221",
     "showTitle": false,
     "title": ""
    }
   },
   "outputs": [
    {
     "output_type": "stream",
     "name": "stdout",
     "output_type": "stream",
     "text": [
      "Out[25]: ['josi', 'pedro']"
     ]
    }
   ],
   "source": [
    "mutal_friends = [ff for rf in raquels_friends for ff in felipes_friends if rf == ff]\n",
    "mutal_friends"
   ]
  },
  {
   "cell_type": "code",
   "execution_count": 0,
   "metadata": {
    "application/vnd.databricks.v1+cell": {
     "cellMetadata": {},
     "inputWidgets": {},
     "nuid": "cd454c58-1d28-4939-b19e-eda18c9f8274",
     "showTitle": false,
     "title": ""
    }
   },
   "outputs": [
    {
     "output_type": "stream",
     "name": "stdout",
     "output_type": "stream",
     "text": [
      "Out[26]: [('manu', 'josi'),\n ('pedro', 'josi'),\n ('manu', 'pedro'),\n ('josi', 'pedro'),\n ('manu', 'paulo'),\n ('josi', 'paulo'),\n ('pedro', 'paulo')]"
     ]
    }
   ],
   "source": [
    "[(ff, rf) for rf in raquels_friends for ff in felipes_friends if rf != ff]"
   ]
  },
  {
   "cell_type": "code",
   "execution_count": 0,
   "metadata": {
    "application/vnd.databricks.v1+cell": {
     "cellMetadata": {
      "byteLimit": 2048000,
      "rowLimit": 10000
     },
     "inputWidgets": {},
     "nuid": "647f3026-9508-42a3-bf5a-d4fb8bc902c8",
     "showTitle": false,
     "title": ""
    }
   },
   "outputs": [
    {
     "output_type": "stream",
     "name": "stdout",
     "output_type": "stream",
     "text": [
      "josi\npedro\n"
     ]
    }
   ],
   "source": [
    "for rf in raquels_friends:\n",
    "    for ff in felipes_friends:\n",
    "        if rf == ff:\n",
    "            print(ff)"
   ]
  }
 ],
 "metadata": {
  "application/vnd.databricks.v1+notebook": {
   "dashboards": [],
   "environmentMetadata": null,
   "language": "python",
   "notebookMetadata": {
    "pythonIndentUnit": 4
   },
   "notebookName": "1. List comprehension",
   "widgets": {}
  }
 },
 "nbformat": 4,
 "nbformat_minor": 0
}
